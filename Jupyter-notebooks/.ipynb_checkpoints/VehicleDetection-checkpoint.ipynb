{
 "cells": [
  {
   "cell_type": "code",
   "execution_count": 1,
   "id": "c2a98fb1",
   "metadata": {},
   "outputs": [],
   "source": [
    "import numpy as np\n",
    "import time\n",
    "import cv2\n",
    "import os"
   ]
  },
  {
   "cell_type": "code",
   "execution_count": 2,
   "id": "676c32f4",
   "metadata": {},
   "outputs": [],
   "source": [
    "# setting the paths\n",
    "coco_names_path = '../Assets/yolo-coco/custom/classes.names'\n",
    "weightsPath = '../Assets/yolo-coco/custom/yolov3_custom_last_4200.weights'\n",
    "configPath = '../Assets/yolo-coco/custom/yolov3_custom.cfg'\n",
    "\n",
    "image_path = '../Assets/images/traffic1.jfif'\n",
    "video_path = '../Assets/videos/vehicles1.mp4'"
   ]
  },
  {
   "cell_type": "code",
   "execution_count": 3,
   "id": "ab61c060",
   "metadata": {},
   "outputs": [
    {
     "name": "stdout",
     "output_type": "stream",
     "text": [
      "['Car', 'Truck', 'Bus', 'Motorcycle', 'Bicycle', 'Ambulance', 'fire engine', 'auto rickshaw']\n"
     ]
    }
   ],
   "source": [
    "# load the COCO class labels our YOLO model was trained on\n",
    "\n",
    "Labels = []\n",
    "with open(coco_names_path,'r',encoding='utf8') as f:\n",
    "    Labels = [line.strip() for line in f.readlines()]\n",
    "\n",
    "print(Labels)"
   ]
  },
  {
   "cell_type": "code",
   "execution_count": 4,
   "id": "7c917f5f",
   "metadata": {},
   "outputs": [],
   "source": [
    "# initialize a list of colors to represent each possible class label\n",
    "np.random.seed(42)\n",
    "COLORS = np.random.randint(0, 255, size=(len(Labels), 3),dtype=\"uint8\")"
   ]
  },
  {
   "cell_type": "code",
   "execution_count": 5,
   "id": "413db530",
   "metadata": {},
   "outputs": [],
   "source": [
    "# load our YOLO object detector trained on COCO dataset (80 classes)\n",
    "# and determine only the *output* layer names that we need from YOLO\n",
    "\n",
    "net = cv2.dnn.readNetFromDarknet(configPath,weightsPath)\n",
    "layers_names = net.getLayerNames()\n",
    "output_layers = [layers_names[i - 1] for i in net.getUnconnectedOutLayers()]"
   ]
  },
  {
   "cell_type": "code",
   "execution_count": 6,
   "id": "95423dab",
   "metadata": {},
   "outputs": [],
   "source": [
    "# initialize the video stream, pointer to output video file, and\n",
    "# frame dimensions\n",
    "vs = cv2.VideoCapture(image_path)\n",
    "writer = None\n",
    "(W, H) = (None, None)"
   ]
  },
  {
   "cell_type": "code",
   "execution_count": 7,
   "id": "f975804b",
   "metadata": {},
   "outputs": [
    {
     "name": "stdout",
     "output_type": "stream",
     "text": [
      "[INFO] could not determine # of frames in video\n",
      "[INFO] no approx. completion time can be provided\n"
     ]
    }
   ],
   "source": [
    "# try to determine the total number of frames in the video file\n",
    "try:\n",
    "    prop = cv2.cv.CV_CAP_PROP_FRAME_COUNT if imutils.is_cv2() \\\n",
    "        else cv2.CAP_PROP_FRAME_COUNT\n",
    "    total = int(vs.get(prop))\n",
    "    print(\"[INFO] {} total frames in video\".format(total))\n",
    "\n",
    "# an error occurred while trying to determine the total\n",
    "# number of frames in the video file\n",
    "except:\n",
    "    print(\"[INFO] could not determine # of frames in video\")\n",
    "    print(\"[INFO] no approx. completion time can be provided\")\n",
    "    total = -1"
   ]
  },
  {
   "cell_type": "code",
   "execution_count": 8,
   "id": "197add06",
   "metadata": {},
   "outputs": [],
   "source": [
    "def get_vehicle_count(boxes, class_names):\n",
    "    \n",
    "    total_vehicle_count = 0 # total vechiles present in the image\n",
    "    dict_vehicle_count = {} # dictionary with count of each distinct vehicles detected\n",
    "    \n",
    "    for i in range(len(boxes)):\n",
    "\n",
    "            class_name = class_names[i]\n",
    "       \n",
    "            if(class_name in list_of_vehicles):\n",
    "                total_vehicle_count += 1\n",
    "                dict_vehicle_count[class_name] = dict_vehicle_count.get(class_name,0) + 1\n",
    "\n",
    "    return total_vehicle_count, dict_vehicle_count"
   ]
  },
  {
   "cell_type": "code",
   "execution_count": 9,
   "id": "3b5612c5",
   "metadata": {
    "scrolled": true
   },
   "outputs": [
    {
     "name": "stdout",
     "output_type": "stream",
     "text": [
      "idxs -->  ()\n",
      "init boxes--> []\n",
      "init names--> []\n",
      "Total vehicles in image 0\n",
      "Each vehicles count in image {}\n"
     ]
    }
   ],
   "source": [
    "list_of_vehicles = ['Car', 'Truck', 'Bus', 'Motorcycle', 'Bicycle', 'Ambulance', 'fire engine', 'auto rickshaw']\n",
    "\n",
    "# looping over the frames from the video file stream\n",
    "while True:\n",
    "    # read the next frame from the file\n",
    "    (grabbed, frame) = vs.read()\n",
    "\n",
    "    # if the frame was not grabbed, then we have reached the end\n",
    "    # of the stream\n",
    "    if not grabbed:\n",
    "        break\n",
    "\n",
    "    # if the frame dimensions are empty, grab them\n",
    "    if W is None or H is None:\n",
    "        (H, W) = frame.shape[:2]\n",
    "\n",
    "    # construct a blob from the input frame and then perform a forward\n",
    "    # pass of the YOLO object detector, giving us our bounding boxes\n",
    "    # and associated probabilities\n",
    "    blob = cv2.dnn.blobFromImage(frame, 1 / 255.0, (416, 416),swapRB=True, crop=False)\n",
    "    net.setInput(blob)\n",
    "    start = time.time()\n",
    "    layerOutputs = net.forward(output_layers)\n",
    "    end = time.time()\n",
    "\n",
    "    # initialize our lists of detected bounding boxes, confidences,\n",
    "    # and class IDs, respectively\n",
    "    boxes = []\n",
    "    confidences = []\n",
    "    classIDs = []\n",
    "    classname = []\n",
    "#     print(layerOutputs)\n",
    "    # loop over each of the layer outputs\n",
    "    for output in layerOutputs:\n",
    "        # loop over each of the detections\n",
    "        for detection in output:\n",
    "            # extract the class ID and confidence (i.e., probability)\n",
    "            # of the current object detection\n",
    "\n",
    "            scores = detection[5:]\n",
    "            classID = np.argmax(scores)\n",
    "            confidence = scores[classID]\n",
    "\n",
    "            # filter out weak predictions by ensuring the detected\n",
    "            # probability is greater than the minimum probability\n",
    "            if confidence > 0.5:\n",
    "                # scale the bounding box coordinates back relative to\n",
    "                # the size of the image, keeping in mind that YOLO\n",
    "                # actually returns the center (x, y)-coordinates of\n",
    "                # the bounding box followed by the boxes' width and\n",
    "                # height\n",
    "                box = detection[0:4] * np.array([W, H, W, H])\n",
    "                (centerX, centerY, width, height) = box.astype(\"int\")\n",
    "\n",
    "                # use the center (x, y)-coordinates to derive the top\n",
    "                # and and left corner of the bounding box\n",
    "                x = int(centerX - (width / 2))\n",
    "                y = int(centerY - (height / 2))\n",
    "\n",
    "                # update our list of bounding box coordinates,\n",
    "                # confidences, and class IDs\n",
    "                boxes.append([x, y, int(width), int(height)])\n",
    "                confidences.append(float(confidence))\n",
    "                classIDs.append(classID)\n",
    "                classname.append(Labels[classID])\n",
    "\n",
    "    # apply non-maxima suppression to suppress weak, overlapping\n",
    "    # bounding boxes\n",
    "    idxs = cv2.dnn.NMSBoxes(boxes, confidences, 0.5,0.5)\n",
    "\n",
    "    \n",
    "    # ensure at least one detection exists\n",
    "    if len(idxs) > 0:\n",
    "        # loop over the indexes we are keeping\n",
    "        for i in idxs.flatten():\n",
    "            # extract the bounding box coordinates\n",
    "            (x, y) = (boxes[i][0], boxes[i][1])\n",
    "            (w, h) = (boxes[i][2], boxes[i][3])\n",
    "\n",
    "            # draw a bounding box rectangle and label on the frame\n",
    "            color = [int(c) for c in COLORS[classIDs[i]]]\n",
    "            \n",
    "            cv2.rectangle(frame, (x, y), (x + w, y + h), color, 2)\n",
    "            \n",
    "            text = \"{}: {:.4f}\".format(Labels[classIDs[i]],confidences[i])\n",
    "            \n",
    "            cv2.putText(frame, text, (x, y - 5), cv2.FONT_HERSHEY_SIMPLEX, 0.5, color, 2)\n",
    "    \n",
    "    cv2.imshow(\"frame\",frame)\n",
    "    cv2.waitKey(0)\n",
    "    # check if the video writer is None\n",
    "    print(\"idxs --> \",idxs)\n",
    "    print(\"init boxes-->\",boxes)\n",
    "    print(\"init names-->\",classname)\n",
    "    \n",
    "    boxes = [boxes[i] for i in idxs]\n",
    "    classname = [classname[i] for i in idxs]\n",
    "    \n",
    "#     print(\"final boxes -->\",boxes)\n",
    "#     print(\"final names -->\",classname)\n",
    "    total_vehicles, each_vehicle = get_vehicle_count(boxes, classname)\n",
    "    print(\"Total vehicles in image\", total_vehicles)\n",
    "    print(\"Each vehicles count in image\", each_vehicle)\n",
    "    if writer is None:\n",
    "        # initialize our video writer\n",
    "        fourcc = cv2.VideoWriter_fourcc(*\"MJPG\")\n",
    "        writer = cv2.VideoWriter('../Assets/images/predictedResult.jpeg', fourcc, 30,\n",
    "            (frame.shape[1], frame.shape[0]), True)\n",
    "\n",
    "        # some information on processing single frame\n",
    "        if total > 0:\n",
    "            elap = (end - start)\n",
    "            print(\"[INFO] single frame took {:.4f} seconds\".format(elap))\n",
    "            print(\"[INFO] estimated total time to finish: {:.4f}\".format(\n",
    "                elap * total))\n",
    "\n",
    "    # write the output frame to disk\n",
    "    writer.write(frame)\n",
    "\n"
   ]
  },
  {
   "cell_type": "code",
   "execution_count": 10,
   "id": "f21f0252",
   "metadata": {},
   "outputs": [
    {
     "name": "stdout",
     "output_type": "stream",
     "text": [
      "[INFO] cleaning up...\n"
     ]
    }
   ],
   "source": [
    "# release the file pointers\n",
    "print(\"[INFO] cleaning up...\")\n",
    "writer.release()\n",
    "vs.release()"
   ]
  },
  {
   "cell_type": "code",
   "execution_count": null,
   "id": "da9d875f",
   "metadata": {},
   "outputs": [],
   "source": [
    "car=each_vehicle.get('car',0)\n",
    "motorbike=each_vehicle.get('motorbike',0)\n",
    "bicycle=each_vehicle.get('bicycle',0)\n",
    "bus=each_vehicle.get('bus',0)\n",
    "truck=each_vehicle.get('truck',0)"
   ]
  },
  {
   "cell_type": "code",
   "execution_count": null,
   "id": "ef1f662d",
   "metadata": {},
   "outputs": [],
   "source": [
    "print(car,motorbike,bicycle,bus,truck)"
   ]
  },
  {
   "cell_type": "code",
   "execution_count": null,
   "id": "af03f037",
   "metadata": {},
   "outputs": [],
   "source": []
  },
  {
   "cell_type": "code",
   "execution_count": null,
   "id": "4e8556b8",
   "metadata": {},
   "outputs": [],
   "source": [
    "timer= (truck*3 + bus*3 + car*2 + motorbike*1 + bicycle*2.5)\n",
    "print(timer)"
   ]
  },
  {
   "cell_type": "code",
   "execution_count": null,
   "id": "928cde17",
   "metadata": {},
   "outputs": [],
   "source": []
  },
  {
   "cell_type": "code",
   "execution_count": null,
   "id": "897b6ab8",
   "metadata": {},
   "outputs": [],
   "source": [
    "# setting the paths\n",
    "coco_names_path = '../Assets/yolo-coco/custom/classes.names'\n",
    "weightsPath = '../Assets/yolo-coco/custom/yolov3_custom_last_4200.weights'\n",
    "configPath = '../Assets/yolo-coco/custom/yolov3_custom.cfg'\n",
    "\n",
    "image_path = '../Assets/images/trafficPic.png'\n",
    "video_path = '../Assets/videos/vehicles1.mp4'"
   ]
  },
  {
   "cell_type": "code",
   "execution_count": null,
   "id": "b42bf13a",
   "metadata": {},
   "outputs": [],
   "source": [
    "import numpy as np\n",
    "import time\n",
    "import cv2\n",
    "image = cv2.imread(image_path)\n",
    "classes = coco_names_path\n",
    "with open(classes, 'r') as f:\n",
    "    LABELS = [line.strip() for line in f.readlines()]\n",
    "np.random.seed(42)\n",
    "COLORS = np.random.randint(0, 255, size=(len(LABELS), 3),\n",
    "\tdtype=\"uint8\")\n",
    "print(\"[INFO]: Loading image...\")\n",
    "net = cv2.dnn.readNet(weightsPath,configPath)\n",
    "try:\n",
    "\t(H, W) = image.shape[:2]\n",
    "\tprint(\"[INFO]: Detecting object from image...\")\n",
    "except Exception as inst:\n",
    "\tprint('[INFO]: Got Error while loading image:',inst)\n",
    "\traise SystemExit()\n",
    "\n",
    "ln = net.getLayerNames()\n",
    "ln = [ln[i - 1] for i in net.getUnconnectedOutLayers()]\n",
    "blob = cv2.dnn.blobFromImage(image, 1 / 255.0, (416, 416),\n",
    "\tswapRB=True, crop=False)\n",
    "net.setInput(blob)\n",
    "start = time.time()\n",
    "layerOutputs = net.forward(ln)\n",
    "end = time.time()\n",
    "print(\"[INFO]: YOLO took {:.6f} seconds\".format(end - start))\n",
    "boxes = []\n",
    "confidences = []\n",
    "classIDs = []\n",
    "for output in layerOutputs:\n",
    "\tfor detection in output:\n",
    "\t\tscores = detection[5:]\n",
    "\t\tclassID = np.argmax(scores)\n",
    "\t\tconfidence = scores[classID]\n",
    "\t\tif confidence > 0.4:\n",
    "\t\t\tbox = detection[0:4] * np.array([W, H, W, H])\n",
    "\t\t\t(centerX, centerY, width, height) = box.astype(\"int\")\n",
    "\t\t\tx = int(centerX - (width / 2))\n",
    "\t\t\ty = int(centerY - (height / 2))\n",
    "\t\t\tboxes.append([x, y, int(width), int(height)])\n",
    "\t\t\tconfidences.append(float(confidence))\n",
    "\t\t\tclassIDs.append(classID)\n",
    "idxs = cv2.dnn.NMSBoxes(boxes, confidences, 0.4,0.4)\n",
    "if len(idxs) > 0:\n",
    "\tfor i in idxs.flatten():\n",
    "\t\t(x, y) = (boxes[i][0], boxes[i][1])\n",
    "\t\t(w, h) = (boxes[i][2], boxes[i][3])\n",
    "\t\tcolor = [int(c) for c in COLORS[classIDs[i]]]\n",
    "\t\tcv2.rectangle(image, (x, y), (x + w, y + h), color, 2)\n",
    "\t\ttext = \"{}: {:.4f}\".format(LABELS[classIDs[i]], confidences[i])\n",
    "\t\tcv2.putText(image, text, (x, y - 5), cv2.FONT_HERSHEY_SIMPLEX,\n",
    "\t\t\t0.5, color, 2)\n",
    "cv2.imwrite('../Assets/images/predictedResult.jpeg', image)\n",
    "cv2.imshow(\"Image\", image)\n",
    "cv2.waitKey(0)"
   ]
  },
  {
   "cell_type": "code",
   "execution_count": null,
   "id": "b5dbfe8b",
   "metadata": {},
   "outputs": [],
   "source": []
  },
  {
   "cell_type": "code",
   "execution_count": null,
   "id": "10a68ef7",
   "metadata": {},
   "outputs": [],
   "source": []
  }
 ],
 "metadata": {
  "kernelspec": {
   "display_name": "Python 3 (ipykernel)",
   "language": "python",
   "name": "python3"
  },
  "language_info": {
   "codemirror_mode": {
    "name": "ipython",
    "version": 3
   },
   "file_extension": ".py",
   "mimetype": "text/x-python",
   "name": "python",
   "nbconvert_exporter": "python",
   "pygments_lexer": "ipython3",
   "version": "3.9.7"
  },
  "vscode": {
   "interpreter": {
    "hash": "49cb93f377a7abe7414b7b0f21fb3017538004a126cf690fb524202736b7fb92"
   }
  }
 },
 "nbformat": 4,
 "nbformat_minor": 5
}
